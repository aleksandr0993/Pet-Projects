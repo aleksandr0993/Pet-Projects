{
 "cells": [
  {
   "cell_type": "code",
   "execution_count": 58,
   "metadata": {},
   "outputs": [],
   "source": [
    "import lightgbm as lgbm\n",
    "import numpy as np\n",
    "import sklearn\n",
    "import pandas as pd\n",
    "import math\n",
    "import seaborn as sns\n",
    "import warnings\n",
    "warnings.filterwarnings('ignore')\n",
    "from pylab import rcParams\n",
    "rcParams['figure.figsize'] = 8, 5\n",
    "from sklearn.model_selection import train_test_split\n",
    "from sklearn.tree import DecisionTreeClassifier\n",
    "from sklearn.ensemble import RandomForestClassifier\n",
    "from sklearn.model_selection import GridSearchCV\n",
    "from sklearn.model_selection import cross_val_score\n",
    "from lightgbm import LGBMClassifier\n",
    "import matplotlib.pyplot as plt\n",
    "from sklearn.datasets import make_classification\n",
    "from sklearn.metrics import precision_score, recall_score\n",
    "from sklearn.metrics import f1_score\n",
    "from sklearn.metrics import roc_auc_score\n",
    "from sklearn.metrics import roc_curve\n",
    "from sklearn.metrics import precision_recall_curve\n",
    "from sklearn.utils import shuffle"
   ]
  },
  {
   "cell_type": "markdown",
   "metadata": {},
   "source": [
    "# Прогноз вероятности совершения заказа клиентами в период с 01.11.11 по 30.11.11"
   ]
  },
  {
   "cell_type": "markdown",
   "metadata": {
    "toc": true
   },
   "source": [
    "<h1>Table of Contents<span class=\"tocSkip\"></span></h1>\n",
    "<div class=\"toc\"><ul class=\"toc-item\"><li><span><a href=\"#Описание-задачи:\" data-toc-modified-id=\"Описание-задачи:-1\"><span class=\"toc-item-num\">1&nbsp;&nbsp;</span>Описание задачи:</a></span></li><li><span><a href=\"#Пайплайн-решения-задачи:\" data-toc-modified-id=\"Пайплайн-решения-задачи:-2\"><span class=\"toc-item-num\">2&nbsp;&nbsp;</span>Пайплайн решения задачи:</a></span></li><li><span><a href=\"#Возможное-применение-бизнесом-результатов-этого-исследования:\" data-toc-modified-id=\"Возможное-применение-бизнесом-результатов-этого-исследования:-3\"><span class=\"toc-item-num\">3&nbsp;&nbsp;</span>Возможное применение бизнесом результатов этого исследования:</a></span></li><li><span><a href=\"#Ознакомление-с-данными-и-предобработка\" data-toc-modified-id=\"Ознакомление-с-данными-и-предобработка-4\"><span class=\"toc-item-num\">4&nbsp;&nbsp;</span>Ознакомление с данными и предобработка</a></span><ul class=\"toc-item\"><li><span><a href=\"#Создаем-тренировочную-и-тестовую-выборки,-где-объект---это-клиент,-а-признаками-являются-факт-совержения-покупки-в-определенный-месяц-года\" data-toc-modified-id=\"Создаем-тренировочную-и-тестовую-выборки,-где-объект---это-клиент,-а-признаками-являются-факт-совержения-покупки-в-определенный-месяц-года-4.1\"><span class=\"toc-item-num\">4.1&nbsp;&nbsp;</span>Создаем тренировочную и тестовую выборки, где объект - это клиент, а признаками являются факт совержения покупки в определенный месяц года</a></span></li></ul></li><li><span><a href=\"#Обучение-моделей:\" data-toc-modified-id=\"Обучение-моделей:-5\"><span class=\"toc-item-num\">5&nbsp;&nbsp;</span>Обучение моделей:</a></span><ul class=\"toc-item\"><li><span><a href=\"#Обоснование-выбора-модели-и-метрики-качества\" data-toc-modified-id=\"Обоснование-выбора-модели-и-метрики-качества-5.1\"><span class=\"toc-item-num\">5.1&nbsp;&nbsp;</span>Обоснование выбора модели и метрики качества</a></span></li><li><span><a href=\"#Decision-Tree\" data-toc-modified-id=\"Decision-Tree-5.2\"><span class=\"toc-item-num\">5.2&nbsp;&nbsp;</span>Decision Tree</a></span></li><li><span><a href=\"#Random-Forest\" data-toc-modified-id=\"Random-Forest-5.3\"><span class=\"toc-item-num\">5.3&nbsp;&nbsp;</span>Random Forest</a></span></li><li><span><a href=\"#LGBM\" data-toc-modified-id=\"LGBM-5.4\"><span class=\"toc-item-num\">5.4&nbsp;&nbsp;</span>LGBM</a></span></li><li><span><a href=\"#UPSAMPLING\" data-toc-modified-id=\"UPSAMPLING-5.5\"><span class=\"toc-item-num\">5.5&nbsp;&nbsp;</span>UPSAMPLING</a></span></li><li><span><a href=\"#Выбираем-первый-вариант-данных-(без-upsampling)-и-сохраняем-ответы\" data-toc-modified-id=\"Выбираем-первый-вариант-данных-(без-upsampling)-и-сохраняем-ответы-5.6\"><span class=\"toc-item-num\">5.6&nbsp;&nbsp;</span>Выбираем первый вариант данных (без upsampling) и сохраняем ответы</a></span></li></ul></li><li><span><a href=\"#Рекомендации-относительно-перспектив-дальнейшего-исследования-этого-массива-данных:\" data-toc-modified-id=\"Рекомендации-относительно-перспектив-дальнейшего-исследования-этого-массива-данных:-6\"><span class=\"toc-item-num\">6&nbsp;&nbsp;</span>Рекомендации относительно перспектив дальнейшего исследования этого массива данных:</a></span></li></ul></div>"
   ]
  },
  {
   "cell_type": "markdown",
   "metadata": {},
   "source": [
    "## Описание задачи:"
   ]
  },
  {
   "cell_type": "markdown",
   "metadata": {},
   "source": [
    "- В тренировачной выборке train_data.csv содержатся данные о продажах магазина в период с 01.12.10 по 31.10.11.\n",
    "- Для каждого клиента, который делал заказ в период с 01.12.10 по 31.10.11, необходимо спрогнозировать вероятность совершения заказа в период с 01.11.11 по 30.11.11.\n"
   ]
  },
  {
   "cell_type": "markdown",
   "metadata": {},
   "source": [
    "## Пайплайн решения задачи:\n",
    "\n",
    "1. Предобработка данных:\\\n",
    "• получение общей информации о датасете, вывод статистик.\\\n",
    "• изменение типов данных, группировка по клиентам.\\\n",
    "• удаление выбросов и пропущенных значений в датасете.\\\n",
    "• Создание нового датафрейма для обучения моделей.\n",
    "2. Обучение различных моделей, с учетом дисбаланса классов в\n",
    "гиперпараметре моделей, а также с помощью техники Upsampling, сравнение\n",
    "полученных метрик.\n",
    "3. Выбор наилучшей модели и сохранение таблицы с ответами."
   ]
  },
  {
   "cell_type": "markdown",
   "metadata": {},
   "source": [
    "## Возможное применение бизнесом результатов этого исследования:\n",
    "- Оптимизация привоза/хранения товара на складе.\n",
    "- Прогнозирование прибыли от продаж товаров.\n",
    "- Рассылка клиентам с прогнозом «1» дополнительны. рекомендаций с целью увеличить чек.\n",
    "- Рассылка клиентам с прогнозом «0» маркетинговых предложений с целью склонения к покупке/ повышения лояльности клиента.\n",
    "    "
   ]
  },
  {
   "cell_type": "code",
   "execution_count": null,
   "metadata": {},
   "outputs": [],
   "source": []
  },
  {
   "cell_type": "markdown",
   "metadata": {},
   "source": [
    "## Ознакомление с данными и предобработка"
   ]
  },
  {
   "cell_type": "code",
   "execution_count": 4,
   "metadata": {},
   "outputs": [
    {
     "data": {
      "text/html": [
       "<div>\n",
       "<style scoped>\n",
       "    .dataframe tbody tr th:only-of-type {\n",
       "        vertical-align: middle;\n",
       "    }\n",
       "\n",
       "    .dataframe tbody tr th {\n",
       "        vertical-align: top;\n",
       "    }\n",
       "\n",
       "    .dataframe thead th {\n",
       "        text-align: right;\n",
       "    }\n",
       "</style>\n",
       "<table border=\"1\" class=\"dataframe\">\n",
       "  <thead>\n",
       "    <tr style=\"text-align: right;\">\n",
       "      <th></th>\n",
       "      <th>InvoiceNo</th>\n",
       "      <th>ProductID</th>\n",
       "      <th>Name</th>\n",
       "      <th>Quantity</th>\n",
       "      <th>InvoiceDate</th>\n",
       "      <th>PricePerItem</th>\n",
       "      <th>CustomerID</th>\n",
       "      <th>Country</th>\n",
       "    </tr>\n",
       "  </thead>\n",
       "  <tbody>\n",
       "    <tr>\n",
       "      <th>0</th>\n",
       "      <td>536365</td>\n",
       "      <td>85123A</td>\n",
       "      <td>WHITE HANGING HEART T-LIGHT HOLDER</td>\n",
       "      <td>6</td>\n",
       "      <td>01.12.10 8:26</td>\n",
       "      <td>2.55</td>\n",
       "      <td>17850.0</td>\n",
       "      <td>United Kingdom</td>\n",
       "    </tr>\n",
       "    <tr>\n",
       "      <th>1</th>\n",
       "      <td>536365</td>\n",
       "      <td>71053</td>\n",
       "      <td>WHITE METAL LANTERN</td>\n",
       "      <td>6</td>\n",
       "      <td>01.12.10 8:26</td>\n",
       "      <td>3.39</td>\n",
       "      <td>17850.0</td>\n",
       "      <td>United Kingdom</td>\n",
       "    </tr>\n",
       "    <tr>\n",
       "      <th>2</th>\n",
       "      <td>536365</td>\n",
       "      <td>84406B</td>\n",
       "      <td>CREAM CUPID HEARTS COAT HANGER</td>\n",
       "      <td>8</td>\n",
       "      <td>01.12.10 8:26</td>\n",
       "      <td>2.75</td>\n",
       "      <td>17850.0</td>\n",
       "      <td>United Kingdom</td>\n",
       "    </tr>\n",
       "    <tr>\n",
       "      <th>3</th>\n",
       "      <td>536365</td>\n",
       "      <td>84029G</td>\n",
       "      <td>KNITTED UNION FLAG HOT WATER BOTTLE</td>\n",
       "      <td>6</td>\n",
       "      <td>01.12.10 8:26</td>\n",
       "      <td>3.39</td>\n",
       "      <td>17850.0</td>\n",
       "      <td>United Kingdom</td>\n",
       "    </tr>\n",
       "    <tr>\n",
       "      <th>4</th>\n",
       "      <td>536365</td>\n",
       "      <td>84029E</td>\n",
       "      <td>RED WOOLLY HOTTIE WHITE HEART.</td>\n",
       "      <td>6</td>\n",
       "      <td>01.12.10 8:26</td>\n",
       "      <td>3.39</td>\n",
       "      <td>17850.0</td>\n",
       "      <td>United Kingdom</td>\n",
       "    </tr>\n",
       "  </tbody>\n",
       "</table>\n",
       "</div>"
      ],
      "text/plain": [
       "  InvoiceNo ProductID                                 Name  Quantity  \\\n",
       "0    536365    85123A   WHITE HANGING HEART T-LIGHT HOLDER         6   \n",
       "1    536365     71053                  WHITE METAL LANTERN         6   \n",
       "2    536365    84406B       CREAM CUPID HEARTS COAT HANGER         8   \n",
       "3    536365    84029G  KNITTED UNION FLAG HOT WATER BOTTLE         6   \n",
       "4    536365    84029E       RED WOOLLY HOTTIE WHITE HEART.         6   \n",
       "\n",
       "     InvoiceDate  PricePerItem  CustomerID         Country  \n",
       "0  01.12.10 8:26          2.55     17850.0  United Kingdom  \n",
       "1  01.12.10 8:26          3.39     17850.0  United Kingdom  \n",
       "2  01.12.10 8:26          2.75     17850.0  United Kingdom  \n",
       "3  01.12.10 8:26          3.39     17850.0  United Kingdom  \n",
       "4  01.12.10 8:26          3.39     17850.0  United Kingdom  "
      ]
     },
     "execution_count": 4,
     "metadata": {},
     "output_type": "execute_result"
    }
   ],
   "source": [
    "df = pd.read_csv('/Users/a1234/Downloads/train_data.csv', sep=';') #, parse_dates=[4]\n",
    "df.head()"
   ]
  },
  {
   "cell_type": "code",
   "execution_count": 5,
   "metadata": {},
   "outputs": [
    {
     "name": "stdout",
     "output_type": "stream",
     "text": [
      "<class 'pandas.core.frame.DataFrame'>\n",
      "RangeIndex: 431673 entries, 0 to 431672\n",
      "Data columns (total 8 columns):\n",
      " #   Column        Non-Null Count   Dtype  \n",
      "---  ------        --------------   -----  \n",
      " 0   InvoiceNo     431673 non-null  object \n",
      " 1   ProductID     431673 non-null  object \n",
      " 2   Name          430309 non-null  object \n",
      " 3   Quantity      431673 non-null  int64  \n",
      " 4   InvoiceDate   431673 non-null  object \n",
      " 5   PricePerItem  431673 non-null  float64\n",
      " 6   CustomerID    323570 non-null  float64\n",
      " 7   Country       431673 non-null  object \n",
      "dtypes: float64(2), int64(1), object(5)\n",
      "memory usage: 26.3+ MB\n"
     ]
    }
   ],
   "source": [
    "df.info()"
   ]
  },
  {
   "cell_type": "code",
   "execution_count": 64,
   "metadata": {},
   "outputs": [
    {
     "data": {
      "text/plain": [
       "Text(0.5, 0, 'Quantity')"
      ]
     },
     "execution_count": 64,
     "metadata": {},
     "output_type": "execute_result"
    },
    {
     "data": {
      "image/png": "[encoded data removed]",
      "text/plain": [
       "<Figure size 576x360 with 1 Axes>"
      ]
     },
     "metadata": {
      "needs_background": "light"
     },
     "output_type": "display_data"
    }
   ],
   "source": [
    "df['Name'].value_counts().head().plot(kind='barh')\n",
    "plt.title('Топ-5 наиболее часто встречаемых в чеках наименований товара')\n",
    "plt.xlabel('Quantity')"
   ]
  },
  {
   "cell_type": "code",
   "execution_count": 78,
   "metadata": {},
   "outputs": [],
   "source": [
    "df['total'] = df['Quantity']*df['PricePerItem']"
   ]
  },
  {
   "cell_type": "code",
   "execution_count": 87,
   "metadata": {},
   "outputs": [
    {
     "data": {
      "text/plain": [
       "Text(0.5, 0, 'Revenue')"
      ]
     },
     "execution_count": 87,
     "metadata": {},
     "output_type": "execute_result"
    },
    {
     "data": {
      "image/png": "[encoded data removed]",
      "text/plain": [
       "<Figure size 576x360 with 1 Axes>"
      ]
     },
     "metadata": {
      "needs_background": "light"
     },
     "output_type": "display_data"
    }
   ],
   "source": [
    "df.groupby('Name')['total'].sum().sort_values(ascending=False).head().plot(kind='barh')\n",
    "plt.title('Топ-5 самых прибыльных наименований товара')\n",
    "plt.xlabel('Revenue')"
   ]
  },
  {
   "cell_type": "markdown",
   "metadata": {},
   "source": [
    "Подавляющее большиство покупок происходит в Соединенном Королевстве, отднако интересно взглянуть на список остальных стран:"
   ]
  },
  {
   "cell_type": "code",
   "execution_count": 88,
   "metadata": {},
   "outputs": [
    {
     "data": {
      "text/plain": [
       "Text(0.5, 0, 'Quantity')"
      ]
     },
     "execution_count": 88,
     "metadata": {},
     "output_type": "execute_result"
    },
    {
     "data": {
      "image/png": "[encoded data removed]",
      "text/plain": [
       "<Figure size 576x360 with 1 Axes>"
      ]
     },
     "metadata": {
      "needs_background": "light"
     },
     "output_type": "display_data"
    }
   ],
   "source": [
    "df[df['Country']!='United Kingdom'].groupby('Country')['total'].sum().sort_values(ascending=False).head().plot(kind='barh')\n",
    "plt.title('Топ-5 регионов, наиболее часто встречаемых в чеках')\n",
    "plt.xlabel('Quantity')"
   ]
  },
  {
   "cell_type": "code",
   "execution_count": 71,
   "metadata": {},
   "outputs": [],
   "source": [
    "#Производим замену типов данных:\n",
    "df['InvoiceDate'] = pd.to_datetime(df['InvoiceDate'], format='%d.%m.%y', exact=False)\n",
    "df['CustomerID'] = df['CustomerID'].astype('object')\n",
    "df['InvoiceMonth'] = df['InvoiceDate'].dt.to_period('M')"
   ]
  },
  {
   "cell_type": "code",
   "execution_count": 72,
   "metadata": {
    "scrolled": true
   },
   "outputs": [
    {
     "name": "stdout",
     "output_type": "stream",
     "text": [
      "Число периодов-месяцев: 11\n"
     ]
    }
   ],
   "source": [
    "print('Число периодов-месяцев:', len(df['InvoiceMonth'].unique()))"
   ]
  },
  {
   "cell_type": "code",
   "execution_count": 80,
   "metadata": {},
   "outputs": [
    {
     "data": {
      "text/plain": [
       "Text(0.5, 0, 'Revenue')"
      ]
     },
     "execution_count": 80,
     "metadata": {},
     "output_type": "execute_result"
    },
    {
     "data": {
      "image/png": "[encoded data removed]",
      "text/plain": [
       "<Figure size 576x360 with 1 Axes>"
      ]
     },
     "metadata": {
      "needs_background": "light"
     },
     "output_type": "display_data"
    }
   ],
   "source": [
    "df.groupby('InvoiceMonth')['total'].sum().sort_values(ascending=False).head().plot(kind='barh')\n",
    "plt.title('Топ-5 самых прибыльных месяцев')\n",
    "plt.xlabel('Revenue')"
   ]
  },
  {
   "cell_type": "code",
   "execution_count": 81,
   "metadata": {},
   "outputs": [
    {
     "data": {
      "text/html": [
       "<div>\n",
       "<style scoped>\n",
       "    .dataframe tbody tr th:only-of-type {\n",
       "        vertical-align: middle;\n",
       "    }\n",
       "\n",
       "    .dataframe tbody tr th {\n",
       "        vertical-align: top;\n",
       "    }\n",
       "\n",
       "    .dataframe thead th {\n",
       "        text-align: right;\n",
       "    }\n",
       "</style>\n",
       "<table border=\"1\" class=\"dataframe\">\n",
       "  <thead>\n",
       "    <tr style=\"text-align: right;\">\n",
       "      <th></th>\n",
       "      <th>InvoiceNo</th>\n",
       "      <th>ProductID</th>\n",
       "      <th>Name</th>\n",
       "      <th>Quantity</th>\n",
       "      <th>InvoiceDate</th>\n",
       "      <th>PricePerItem</th>\n",
       "      <th>CustomerID</th>\n",
       "      <th>Country</th>\n",
       "      <th>InvoiceMonth</th>\n",
       "      <th>total</th>\n",
       "    </tr>\n",
       "  </thead>\n",
       "  <tbody>\n",
       "    <tr>\n",
       "      <th>count</th>\n",
       "      <td>431673</td>\n",
       "      <td>431673</td>\n",
       "      <td>430309</td>\n",
       "      <td>431673.000000</td>\n",
       "      <td>431673</td>\n",
       "      <td>431673.000000</td>\n",
       "      <td>323570.0</td>\n",
       "      <td>431673</td>\n",
       "      <td>431673</td>\n",
       "      <td>431673.000000</td>\n",
       "    </tr>\n",
       "    <tr>\n",
       "      <th>unique</th>\n",
       "      <td>21423</td>\n",
       "      <td>4019</td>\n",
       "      <td>4129</td>\n",
       "      <td>NaN</td>\n",
       "      <td>271</td>\n",
       "      <td>NaN</td>\n",
       "      <td>4010.0</td>\n",
       "      <td>38</td>\n",
       "      <td>11</td>\n",
       "      <td>NaN</td>\n",
       "    </tr>\n",
       "    <tr>\n",
       "      <th>top</th>\n",
       "      <td>573585</td>\n",
       "      <td>85123A</td>\n",
       "      <td>WHITE HANGING HEART T-LIGHT HOLDER</td>\n",
       "      <td>NaN</td>\n",
       "      <td>2010-12-06 00:00:00</td>\n",
       "      <td>NaN</td>\n",
       "      <td>17841.0</td>\n",
       "      <td>United Kingdom</td>\n",
       "      <td>2011-10</td>\n",
       "      <td>NaN</td>\n",
       "    </tr>\n",
       "    <tr>\n",
       "      <th>freq</th>\n",
       "      <td>1114</td>\n",
       "      <td>1981</td>\n",
       "      <td>2033</td>\n",
       "      <td>NaN</td>\n",
       "      <td>3878</td>\n",
       "      <td>NaN</td>\n",
       "      <td>6087.0</td>\n",
       "      <td>392912</td>\n",
       "      <td>60742</td>\n",
       "      <td>NaN</td>\n",
       "    </tr>\n",
       "    <tr>\n",
       "      <th>first</th>\n",
       "      <td>NaN</td>\n",
       "      <td>NaN</td>\n",
       "      <td>NaN</td>\n",
       "      <td>NaN</td>\n",
       "      <td>2010-12-01 00:00:00</td>\n",
       "      <td>NaN</td>\n",
       "      <td>NaN</td>\n",
       "      <td>NaN</td>\n",
       "      <td>NaN</td>\n",
       "      <td>NaN</td>\n",
       "    </tr>\n",
       "    <tr>\n",
       "      <th>last</th>\n",
       "      <td>NaN</td>\n",
       "      <td>NaN</td>\n",
       "      <td>NaN</td>\n",
       "      <td>NaN</td>\n",
       "      <td>2011-10-31 00:00:00</td>\n",
       "      <td>NaN</td>\n",
       "      <td>NaN</td>\n",
       "      <td>NaN</td>\n",
       "      <td>NaN</td>\n",
       "      <td>NaN</td>\n",
       "    </tr>\n",
       "    <tr>\n",
       "      <th>mean</th>\n",
       "      <td>NaN</td>\n",
       "      <td>NaN</td>\n",
       "      <td>NaN</td>\n",
       "      <td>9.752361</td>\n",
       "      <td>NaN</td>\n",
       "      <td>4.720560</td>\n",
       "      <td>NaN</td>\n",
       "      <td>NaN</td>\n",
       "      <td>NaN</td>\n",
       "      <td>18.190444</td>\n",
       "    </tr>\n",
       "    <tr>\n",
       "      <th>std</th>\n",
       "      <td>NaN</td>\n",
       "      <td>NaN</td>\n",
       "      <td>NaN</td>\n",
       "      <td>169.271211</td>\n",
       "      <td>NaN</td>\n",
       "      <td>101.414028</td>\n",
       "      <td>NaN</td>\n",
       "      <td>NaN</td>\n",
       "      <td>NaN</td>\n",
       "      <td>214.916106</td>\n",
       "    </tr>\n",
       "    <tr>\n",
       "      <th>min</th>\n",
       "      <td>NaN</td>\n",
       "      <td>NaN</td>\n",
       "      <td>NaN</td>\n",
       "      <td>-74215.000000</td>\n",
       "      <td>NaN</td>\n",
       "      <td>-11062.060000</td>\n",
       "      <td>NaN</td>\n",
       "      <td>NaN</td>\n",
       "      <td>NaN</td>\n",
       "      <td>-77183.600000</td>\n",
       "    </tr>\n",
       "    <tr>\n",
       "      <th>25%</th>\n",
       "      <td>NaN</td>\n",
       "      <td>NaN</td>\n",
       "      <td>NaN</td>\n",
       "      <td>1.000000</td>\n",
       "      <td>NaN</td>\n",
       "      <td>1.250000</td>\n",
       "      <td>NaN</td>\n",
       "      <td>NaN</td>\n",
       "      <td>NaN</td>\n",
       "      <td>3.750000</td>\n",
       "    </tr>\n",
       "    <tr>\n",
       "      <th>50%</th>\n",
       "      <td>NaN</td>\n",
       "      <td>NaN</td>\n",
       "      <td>NaN</td>\n",
       "      <td>3.000000</td>\n",
       "      <td>NaN</td>\n",
       "      <td>2.100000</td>\n",
       "      <td>NaN</td>\n",
       "      <td>NaN</td>\n",
       "      <td>NaN</td>\n",
       "      <td>9.900000</td>\n",
       "    </tr>\n",
       "    <tr>\n",
       "      <th>75%</th>\n",
       "      <td>NaN</td>\n",
       "      <td>NaN</td>\n",
       "      <td>NaN</td>\n",
       "      <td>11.000000</td>\n",
       "      <td>NaN</td>\n",
       "      <td>4.130000</td>\n",
       "      <td>NaN</td>\n",
       "      <td>NaN</td>\n",
       "      <td>NaN</td>\n",
       "      <td>17.700000</td>\n",
       "    </tr>\n",
       "    <tr>\n",
       "      <th>max</th>\n",
       "      <td>NaN</td>\n",
       "      <td>NaN</td>\n",
       "      <td>NaN</td>\n",
       "      <td>74215.000000</td>\n",
       "      <td>NaN</td>\n",
       "      <td>38970.000000</td>\n",
       "      <td>NaN</td>\n",
       "      <td>NaN</td>\n",
       "      <td>NaN</td>\n",
       "      <td>77183.600000</td>\n",
       "    </tr>\n",
       "  </tbody>\n",
       "</table>\n",
       "</div>"
      ],
      "text/plain": [
       "       InvoiceNo ProductID                                Name       Quantity  \\\n",
       "count     431673    431673                              430309  431673.000000   \n",
       "unique     21423      4019                                4129            NaN   \n",
       "top       573585    85123A  WHITE HANGING HEART T-LIGHT HOLDER            NaN   \n",
       "freq        1114      1981                                2033            NaN   \n",
       "first        NaN       NaN                                 NaN            NaN   \n",
       "last         NaN       NaN                                 NaN            NaN   \n",
       "mean         NaN       NaN                                 NaN       9.752361   \n",
       "std          NaN       NaN                                 NaN     169.271211   \n",
       "min          NaN       NaN                                 NaN  -74215.000000   \n",
       "25%          NaN       NaN                                 NaN       1.000000   \n",
       "50%          NaN       NaN                                 NaN       3.000000   \n",
       "75%          NaN       NaN                                 NaN      11.000000   \n",
       "max          NaN       NaN                                 NaN   74215.000000   \n",
       "\n",
       "                InvoiceDate   PricePerItem  CustomerID         Country  \\\n",
       "count                431673  431673.000000    323570.0          431673   \n",
       "unique                  271            NaN      4010.0              38   \n",
       "top     2010-12-06 00:00:00            NaN     17841.0  United Kingdom   \n",
       "freq                   3878            NaN      6087.0          392912   \n",
       "first   2010-12-01 00:00:00            NaN         NaN             NaN   \n",
       "last    2011-10-31 00:00:00            NaN         NaN             NaN   \n",
       "mean                    NaN       4.720560         NaN             NaN   \n",
       "std                     NaN     101.414028         NaN             NaN   \n",
       "min                     NaN  -11062.060000         NaN             NaN   \n",
       "25%                     NaN       1.250000         NaN             NaN   \n",
       "50%                     NaN       2.100000         NaN             NaN   \n",
       "75%                     NaN       4.130000         NaN             NaN   \n",
       "max                     NaN   38970.000000         NaN             NaN   \n",
       "\n",
       "       InvoiceMonth          total  \n",
       "count        431673  431673.000000  \n",
       "unique           11            NaN  \n",
       "top         2011-10            NaN  \n",
       "freq          60742            NaN  \n",
       "first           NaN            NaN  \n",
       "last            NaN            NaN  \n",
       "mean            NaN      18.190444  \n",
       "std             NaN     214.916106  \n",
       "min             NaN  -77183.600000  \n",
       "25%             NaN       3.750000  \n",
       "50%             NaN       9.900000  \n",
       "75%             NaN      17.700000  \n",
       "max             NaN   77183.600000  "
      ]
     },
     "execution_count": 81,
     "metadata": {},
     "output_type": "execute_result"
    }
   ],
   "source": [
    "df.describe(include='all')"
   ]
  },
  {
   "cell_type": "code",
   "execution_count": 82,
   "metadata": {},
   "outputs": [],
   "source": [
    "df = df.set_index('InvoiceDate')"
   ]
  },
  {
   "cell_type": "code",
   "execution_count": 83,
   "metadata": {},
   "outputs": [
    {
     "data": {
      "text/html": [
       "<div>\n",
       "<style scoped>\n",
       "    .dataframe tbody tr th:only-of-type {\n",
       "        vertical-align: middle;\n",
       "    }\n",
       "\n",
       "    .dataframe tbody tr th {\n",
       "        vertical-align: top;\n",
       "    }\n",
       "\n",
       "    .dataframe thead th {\n",
       "        text-align: right;\n",
       "    }\n",
       "</style>\n",
       "<table border=\"1\" class=\"dataframe\">\n",
       "  <thead>\n",
       "    <tr style=\"text-align: right;\">\n",
       "      <th></th>\n",
       "      <th>InvoiceNo</th>\n",
       "      <th>ProductID</th>\n",
       "      <th>Name</th>\n",
       "      <th>Quantity</th>\n",
       "      <th>PricePerItem</th>\n",
       "      <th>CustomerID</th>\n",
       "      <th>Country</th>\n",
       "      <th>InvoiceMonth</th>\n",
       "      <th>total</th>\n",
       "    </tr>\n",
       "    <tr>\n",
       "      <th>InvoiceDate</th>\n",
       "      <th></th>\n",
       "      <th></th>\n",
       "      <th></th>\n",
       "      <th></th>\n",
       "      <th></th>\n",
       "      <th></th>\n",
       "      <th></th>\n",
       "      <th></th>\n",
       "      <th></th>\n",
       "    </tr>\n",
       "  </thead>\n",
       "  <tbody>\n",
       "    <tr>\n",
       "      <th>2010-12-01</th>\n",
       "      <td>536365</td>\n",
       "      <td>85123A</td>\n",
       "      <td>WHITE HANGING HEART T-LIGHT HOLDER</td>\n",
       "      <td>6</td>\n",
       "      <td>2.55</td>\n",
       "      <td>17850</td>\n",
       "      <td>United Kingdom</td>\n",
       "      <td>2010-12</td>\n",
       "      <td>15.30</td>\n",
       "    </tr>\n",
       "    <tr>\n",
       "      <th>2010-12-01</th>\n",
       "      <td>536365</td>\n",
       "      <td>71053</td>\n",
       "      <td>WHITE METAL LANTERN</td>\n",
       "      <td>6</td>\n",
       "      <td>3.39</td>\n",
       "      <td>17850</td>\n",
       "      <td>United Kingdom</td>\n",
       "      <td>2010-12</td>\n",
       "      <td>20.34</td>\n",
       "    </tr>\n",
       "    <tr>\n",
       "      <th>2010-12-01</th>\n",
       "      <td>536365</td>\n",
       "      <td>84406B</td>\n",
       "      <td>CREAM CUPID HEARTS COAT HANGER</td>\n",
       "      <td>8</td>\n",
       "      <td>2.75</td>\n",
       "      <td>17850</td>\n",
       "      <td>United Kingdom</td>\n",
       "      <td>2010-12</td>\n",
       "      <td>22.00</td>\n",
       "    </tr>\n",
       "    <tr>\n",
       "      <th>2010-12-01</th>\n",
       "      <td>536365</td>\n",
       "      <td>84029G</td>\n",
       "      <td>KNITTED UNION FLAG HOT WATER BOTTLE</td>\n",
       "      <td>6</td>\n",
       "      <td>3.39</td>\n",
       "      <td>17850</td>\n",
       "      <td>United Kingdom</td>\n",
       "      <td>2010-12</td>\n",
       "      <td>20.34</td>\n",
       "    </tr>\n",
       "    <tr>\n",
       "      <th>2010-12-01</th>\n",
       "      <td>536365</td>\n",
       "      <td>84029E</td>\n",
       "      <td>RED WOOLLY HOTTIE WHITE HEART.</td>\n",
       "      <td>6</td>\n",
       "      <td>3.39</td>\n",
       "      <td>17850</td>\n",
       "      <td>United Kingdom</td>\n",
       "      <td>2010-12</td>\n",
       "      <td>20.34</td>\n",
       "    </tr>\n",
       "  </tbody>\n",
       "</table>\n",
       "</div>"
      ],
      "text/plain": [
       "            InvoiceNo ProductID                                 Name  \\\n",
       "InvoiceDate                                                            \n",
       "2010-12-01     536365    85123A   WHITE HANGING HEART T-LIGHT HOLDER   \n",
       "2010-12-01     536365     71053                  WHITE METAL LANTERN   \n",
       "2010-12-01     536365    84406B       CREAM CUPID HEARTS COAT HANGER   \n",
       "2010-12-01     536365    84029G  KNITTED UNION FLAG HOT WATER BOTTLE   \n",
       "2010-12-01     536365    84029E       RED WOOLLY HOTTIE WHITE HEART.   \n",
       "\n",
       "             Quantity  PricePerItem CustomerID         Country InvoiceMonth  \\\n",
       "InvoiceDate                                                                   \n",
       "2010-12-01          6          2.55      17850  United Kingdom      2010-12   \n",
       "2010-12-01          6          3.39      17850  United Kingdom      2010-12   \n",
       "2010-12-01          8          2.75      17850  United Kingdom      2010-12   \n",
       "2010-12-01          6          3.39      17850  United Kingdom      2010-12   \n",
       "2010-12-01          6          3.39      17850  United Kingdom      2010-12   \n",
       "\n",
       "             total  \n",
       "InvoiceDate         \n",
       "2010-12-01   15.30  \n",
       "2010-12-01   20.34  \n",
       "2010-12-01   22.00  \n",
       "2010-12-01   20.34  \n",
       "2010-12-01   20.34  "
      ]
     },
     "execution_count": 83,
     "metadata": {},
     "output_type": "execute_result"
    }
   ],
   "source": [
    "df = df.dropna(subset=['CustomerID'])\n",
    "df.head()"
   ]
  },
  {
   "cell_type": "markdown",
   "metadata": {},
   "source": [
    "Очищаем данные от записей, где не указан ID клиента:"
   ]
  },
  {
   "cell_type": "code",
   "execution_count": 84,
   "metadata": {},
   "outputs": [
    {
     "data": {
      "text/plain": [
       "17841.0    6087\n",
       "14911.0    4645\n",
       "14096.0    2700\n",
       "12748.0    2643\n",
       "14606.0    2400\n",
       "           ... \n",
       "14351.0       1\n",
       "13120.0       1\n",
       "16990.0       1\n",
       "16995.0       1\n",
       "16579.0       1\n",
       "Name: CustomerID, Length: 4010, dtype: int64"
      ]
     },
     "execution_count": 84,
     "metadata": {},
     "output_type": "execute_result"
    }
   ],
   "source": [
    "df['CustomerID'].value_counts()"
   ]
  },
  {
   "cell_type": "markdown",
   "metadata": {},
   "source": [
    "Удаляем аномальные данные о количестве товара:"
   ]
  },
  {
   "cell_type": "code",
   "execution_count": 85,
   "metadata": {},
   "outputs": [
    {
     "name": "stdout",
     "output_type": "stream",
     "text": [
      "<class 'pandas.core.frame.DataFrame'>\n",
      "DatetimeIndex: 312902 entries, 2010-12-01 to 2011-10-31\n",
      "Data columns (total 9 columns):\n",
      " #   Column        Non-Null Count   Dtype    \n",
      "---  ------        --------------   -----    \n",
      " 0   InvoiceNo     312902 non-null  object   \n",
      " 1   ProductID     312902 non-null  object   \n",
      " 2   Name          312902 non-null  object   \n",
      " 3   Quantity      312902 non-null  int64    \n",
      " 4   PricePerItem  312902 non-null  float64  \n",
      " 5   CustomerID    312902 non-null  object   \n",
      " 6   Country       312902 non-null  object   \n",
      " 7   InvoiceMonth  312902 non-null  period[M]\n",
      " 8   total         312902 non-null  float64  \n",
      "dtypes: float64(2), int64(1), object(5), period[M](1)\n",
      "memory usage: 23.9+ MB\n"
     ]
    }
   ],
   "source": [
    "low = 1\n",
    "high = df['Quantity'].quantile(0.99)\n",
    "\n",
    "df = df[(df['Quantity']>= low) & (df['Quantity']<= high)]\n",
    "\n",
    "df.info()"
   ]
  },
  {
   "cell_type": "markdown",
   "metadata": {},
   "source": [
    "Группируем число покупок каждого клиента по месячным периодам:"
   ]
  },
  {
   "cell_type": "code",
   "execution_count": 86,
   "metadata": {},
   "outputs": [
    {
     "data": {
      "text/plain": [
       "CustomerID  InvoiceMonth\n",
       "12347.0     2010-12         31\n",
       "            2011-01         29\n",
       "            2011-04         23\n",
       "            2011-06         18\n",
       "            2011-08         22\n",
       "                            ..\n",
       "18283.0     2011-07         57\n",
       "            2011-09         47\n",
       "            2011-10         40\n",
       "18287.0     2011-05         29\n",
       "            2011-10         41\n",
       "Name: Quantity, Length: 10656, dtype: int64"
      ]
     },
     "execution_count": 86,
     "metadata": {},
     "output_type": "execute_result"
    }
   ],
   "source": [
    "c = df.groupby(['CustomerID', 'InvoiceMonth'])['Quantity'].count()\n",
    "c"
   ]
  },
  {
   "cell_type": "markdown",
   "metadata": {},
   "source": [
    "### Создаем тренировочную и тестовую выборки, где объект - это клиент, а признаками являются факт совержения покупки в определенный месяц года"
   ]
  },
  {
   "cell_type": "code",
   "execution_count": 12,
   "metadata": {},
   "outputs": [],
   "source": [
    "customers = df['CustomerID'].unique()"
   ]
  },
  {
   "cell_type": "code",
   "execution_count": 13,
   "metadata": {},
   "outputs": [],
   "source": [
    "r = pd.Series(pd.date_range(start='2010-12', end='2011-11', freq='M')).dt.to_period('M')\n",
    "v = pd.DataFrame(index = customers, columns=r)"
   ]
  },
  {
   "cell_type": "code",
   "execution_count": 14,
   "metadata": {},
   "outputs": [],
   "source": [
    "for i in v.index:\n",
    "    for j in v.columns:\n",
    "        try:\n",
    "            if c.loc[i, str(j)] >0:\n",
    "                v.loc[i, j] = int(1)\n",
    "        except:\n",
    "            v.loc[i, j] = int(0)"
   ]
  },
  {
   "cell_type": "code",
   "execution_count": 15,
   "metadata": {},
   "outputs": [
    {
     "data": {
      "text/html": [
       "<div>\n",
       "<style scoped>\n",
       "    .dataframe tbody tr th:only-of-type {\n",
       "        vertical-align: middle;\n",
       "    }\n",
       "\n",
       "    .dataframe tbody tr th {\n",
       "        vertical-align: top;\n",
       "    }\n",
       "\n",
       "    .dataframe thead th {\n",
       "        text-align: right;\n",
       "    }\n",
       "</style>\n",
       "<table border=\"1\" class=\"dataframe\">\n",
       "  <thead>\n",
       "    <tr style=\"text-align: right;\">\n",
       "      <th></th>\n",
       "      <th>2010-12</th>\n",
       "      <th>2011-01</th>\n",
       "      <th>2011-02</th>\n",
       "      <th>2011-03</th>\n",
       "      <th>2011-04</th>\n",
       "      <th>2011-05</th>\n",
       "      <th>2011-06</th>\n",
       "      <th>2011-07</th>\n",
       "      <th>2011-08</th>\n",
       "      <th>2011-09</th>\n",
       "      <th>2011-10</th>\n",
       "    </tr>\n",
       "  </thead>\n",
       "  <tbody>\n",
       "    <tr>\n",
       "      <th>17850.0</th>\n",
       "      <td>1</td>\n",
       "      <td>0</td>\n",
       "      <td>0</td>\n",
       "      <td>0</td>\n",
       "      <td>0</td>\n",
       "      <td>0</td>\n",
       "      <td>0</td>\n",
       "      <td>0</td>\n",
       "      <td>0</td>\n",
       "      <td>0</td>\n",
       "      <td>0</td>\n",
       "    </tr>\n",
       "    <tr>\n",
       "      <th>13047.0</th>\n",
       "      <td>1</td>\n",
       "      <td>0</td>\n",
       "      <td>1</td>\n",
       "      <td>1</td>\n",
       "      <td>0</td>\n",
       "      <td>1</td>\n",
       "      <td>1</td>\n",
       "      <td>0</td>\n",
       "      <td>1</td>\n",
       "      <td>0</td>\n",
       "      <td>1</td>\n",
       "    </tr>\n",
       "    <tr>\n",
       "      <th>12583.0</th>\n",
       "      <td>1</td>\n",
       "      <td>1</td>\n",
       "      <td>1</td>\n",
       "      <td>1</td>\n",
       "      <td>0</td>\n",
       "      <td>1</td>\n",
       "      <td>1</td>\n",
       "      <td>1</td>\n",
       "      <td>1</td>\n",
       "      <td>1</td>\n",
       "      <td>1</td>\n",
       "    </tr>\n",
       "    <tr>\n",
       "      <th>13748.0</th>\n",
       "      <td>1</td>\n",
       "      <td>0</td>\n",
       "      <td>0</td>\n",
       "      <td>0</td>\n",
       "      <td>1</td>\n",
       "      <td>0</td>\n",
       "      <td>0</td>\n",
       "      <td>0</td>\n",
       "      <td>0</td>\n",
       "      <td>1</td>\n",
       "      <td>0</td>\n",
       "    </tr>\n",
       "    <tr>\n",
       "      <th>15100.0</th>\n",
       "      <td>1</td>\n",
       "      <td>1</td>\n",
       "      <td>0</td>\n",
       "      <td>0</td>\n",
       "      <td>0</td>\n",
       "      <td>0</td>\n",
       "      <td>0</td>\n",
       "      <td>0</td>\n",
       "      <td>0</td>\n",
       "      <td>0</td>\n",
       "      <td>0</td>\n",
       "    </tr>\n",
       "    <tr>\n",
       "      <th>...</th>\n",
       "      <td>...</td>\n",
       "      <td>...</td>\n",
       "      <td>...</td>\n",
       "      <td>...</td>\n",
       "      <td>...</td>\n",
       "      <td>...</td>\n",
       "      <td>...</td>\n",
       "      <td>...</td>\n",
       "      <td>...</td>\n",
       "      <td>...</td>\n",
       "      <td>...</td>\n",
       "    </tr>\n",
       "    <tr>\n",
       "      <th>13651.0</th>\n",
       "      <td>0</td>\n",
       "      <td>0</td>\n",
       "      <td>0</td>\n",
       "      <td>0</td>\n",
       "      <td>0</td>\n",
       "      <td>0</td>\n",
       "      <td>0</td>\n",
       "      <td>0</td>\n",
       "      <td>0</td>\n",
       "      <td>0</td>\n",
       "      <td>1</td>\n",
       "    </tr>\n",
       "    <tr>\n",
       "      <th>12552.0</th>\n",
       "      <td>0</td>\n",
       "      <td>0</td>\n",
       "      <td>0</td>\n",
       "      <td>0</td>\n",
       "      <td>0</td>\n",
       "      <td>0</td>\n",
       "      <td>0</td>\n",
       "      <td>0</td>\n",
       "      <td>0</td>\n",
       "      <td>0</td>\n",
       "      <td>1</td>\n",
       "    </tr>\n",
       "    <tr>\n",
       "      <th>16127.0</th>\n",
       "      <td>0</td>\n",
       "      <td>0</td>\n",
       "      <td>0</td>\n",
       "      <td>0</td>\n",
       "      <td>0</td>\n",
       "      <td>0</td>\n",
       "      <td>0</td>\n",
       "      <td>0</td>\n",
       "      <td>0</td>\n",
       "      <td>0</td>\n",
       "      <td>1</td>\n",
       "    </tr>\n",
       "    <tr>\n",
       "      <th>12588.0</th>\n",
       "      <td>0</td>\n",
       "      <td>0</td>\n",
       "      <td>0</td>\n",
       "      <td>0</td>\n",
       "      <td>0</td>\n",
       "      <td>0</td>\n",
       "      <td>0</td>\n",
       "      <td>0</td>\n",
       "      <td>0</td>\n",
       "      <td>0</td>\n",
       "      <td>1</td>\n",
       "    </tr>\n",
       "    <tr>\n",
       "      <th>15977.0</th>\n",
       "      <td>0</td>\n",
       "      <td>0</td>\n",
       "      <td>0</td>\n",
       "      <td>0</td>\n",
       "      <td>0</td>\n",
       "      <td>0</td>\n",
       "      <td>0</td>\n",
       "      <td>0</td>\n",
       "      <td>0</td>\n",
       "      <td>0</td>\n",
       "      <td>1</td>\n",
       "    </tr>\n",
       "  </tbody>\n",
       "</table>\n",
       "<p>3944 rows × 11 columns</p>\n",
       "</div>"
      ],
      "text/plain": [
       "        2010-12 2011-01 2011-02 2011-03 2011-04 2011-05 2011-06 2011-07  \\\n",
       "17850.0       1       0       0       0       0       0       0       0   \n",
       "13047.0       1       0       1       1       0       1       1       0   \n",
       "12583.0       1       1       1       1       0       1       1       1   \n",
       "13748.0       1       0       0       0       1       0       0       0   \n",
       "15100.0       1       1       0       0       0       0       0       0   \n",
       "...         ...     ...     ...     ...     ...     ...     ...     ...   \n",
       "13651.0       0       0       0       0       0       0       0       0   \n",
       "12552.0       0       0       0       0       0       0       0       0   \n",
       "16127.0       0       0       0       0       0       0       0       0   \n",
       "12588.0       0       0       0       0       0       0       0       0   \n",
       "15977.0       0       0       0       0       0       0       0       0   \n",
       "\n",
       "        2011-08 2011-09 2011-10  \n",
       "17850.0       0       0       0  \n",
       "13047.0       1       0       1  \n",
       "12583.0       1       1       1  \n",
       "13748.0       0       1       0  \n",
       "15100.0       0       0       0  \n",
       "...         ...     ...     ...  \n",
       "13651.0       0       0       1  \n",
       "12552.0       0       0       1  \n",
       "16127.0       0       0       1  \n",
       "12588.0       0       0       1  \n",
       "15977.0       0       0       1  \n",
       "\n",
       "[3944 rows x 11 columns]"
      ]
     },
     "execution_count": 15,
     "metadata": {},
     "output_type": "execute_result"
    }
   ],
   "source": [
    "v"
   ]
  },
  {
   "cell_type": "code",
   "execution_count": 16,
   "metadata": {},
   "outputs": [],
   "source": [
    "X = v.iloc[:, : 10].astype('int')\n",
    "y = v.iloc[:, 10].astype('int')"
   ]
  },
  {
   "cell_type": "code",
   "execution_count": 17,
   "metadata": {},
   "outputs": [],
   "source": [
    "X_train, X_test, y_train, y_test = train_test_split(X, y, test_size=0.25, random_state=12345)"
   ]
  },
  {
   "cell_type": "code",
   "execution_count": 18,
   "metadata": {},
   "outputs": [
    {
     "data": {
      "text/plain": [
       "((2958, 10), (986, 10), (2958,), (986,))"
      ]
     },
     "execution_count": 18,
     "metadata": {},
     "output_type": "execute_result"
    }
   ],
   "source": [
    "X_train.shape, X_test.shape, y_train.shape, y_test.shape"
   ]
  },
  {
   "cell_type": "markdown",
   "metadata": {},
   "source": [
    "## Обучение моделей:"
   ]
  },
  {
   "cell_type": "markdown",
   "metadata": {},
   "source": [
    "### Обоснование выбора модели и метрики качества\n",
    "\n",
    "• Были попробованы модели: деревья решений, случайный лес,\n",
    "Light GBM.\n",
    "\n",
    "• Метрикой качества выбрана F1, как наилучшая в условиях\n",
    "дисбаланса классов. Дополнительно рассматривалась метрика\n",
    "recall.\n",
    "\n",
    "• Выбрана модель случайный лес, т.к. она показывает как высокое\n",
    "значение метрики F1, так и метрики recall.\n"
   ]
  },
  {
   "cell_type": "markdown",
   "metadata": {},
   "source": [
    "$$\n",
    "F1 score = 2 * \\frac{recall * precision}{recall + precision}\n",
    "$$"
   ]
  },
  {
   "cell_type": "code",
   "execution_count": 19,
   "metadata": {},
   "outputs": [],
   "source": [
    "def eval(model, params):\n",
    "    grid = GridSearchCV(model, param_grid=params, scoring='f1', n_jobs=-1, cv=5)\n",
    "    grid.fit(X_train, y_train)\n",
    "    pred = grid.predict(X_test)                                                   \n",
    "    f1 = f1_score(y_test, pred)\n",
    "    print('F_1:', grid.best_score_)\n",
    "    print('Best params:',grid.best_params_)"
   ]
  },
  {
   "cell_type": "markdown",
   "metadata": {},
   "source": [
    "### Decision Tree"
   ]
  },
  {
   "cell_type": "code",
   "execution_count": 20,
   "metadata": {},
   "outputs": [
    {
     "name": "stdout",
     "output_type": "stream",
     "text": [
      "F_1: 0.6093586296700524\n",
      "Best params: {'criterion': 'entropy', 'max_depth': None, 'min_samples_leaf': 8, 'min_samples_split': 24}\n",
      "CPU times: user 1.3 s, sys: 149 ms, total: 1.45 s\n",
      "Wall time: 4.54 s\n"
     ]
    }
   ],
   "source": [
    "%%time\n",
    "model = DecisionTreeClassifier(class_weight='balanced', random_state=12345)\n",
    "eval(model, {'max_depth': [range(4, 20, 2), None], 'criterion': ['gini', 'entropy'] ,\n",
    "             'min_samples_split': np.arange(2, 26, 2), 'min_samples_leaf': np.arange(1, 10, 1)})"
   ]
  },
  {
   "cell_type": "markdown",
   "metadata": {},
   "source": [
    "### Random Forest"
   ]
  },
  {
   "cell_type": "code",
   "execution_count": 21,
   "metadata": {},
   "outputs": [
    {
     "name": "stdout",
     "output_type": "stream",
     "text": [
      "F_1: 0.5828171278984587\n",
      "Best params: {'criterion': 'gini', 'max_depth': None}\n",
      "CPU times: user 880 ms, sys: 273 ms, total: 1.15 s\n",
      "Wall time: 3.35 s\n"
     ]
    }
   ],
   "source": [
    "%%time\n",
    "model = RandomForestClassifier(class_weight='balanced', random_state=12345, n_estimators=300, n_jobs=-1)\n",
    "eval(model, {'max_depth': [range(4, 20, 2), None], 'criterion': ['gini', 'entropy']})"
   ]
  },
  {
   "cell_type": "code",
   "execution_count": 22,
   "metadata": {},
   "outputs": [
    {
     "name": "stdout",
     "output_type": "stream",
     "text": [
      "F_1: 0.6104362973913423\n",
      "Best params: {'min_samples_split': 22}\n",
      "CPU times: user 910 ms, sys: 262 ms, total: 1.17 s\n",
      "Wall time: 11.6 s\n"
     ]
    }
   ],
   "source": [
    "%%time\n",
    "model = RandomForestClassifier(class_weight='balanced', random_state=12345,\n",
    "                               criterion= 'gini', n_estimators=300, n_jobs=-1)\n",
    "eval(model, {'min_samples_split': np.arange(2, 26, 2)})"
   ]
  },
  {
   "cell_type": "code",
   "execution_count": 23,
   "metadata": {},
   "outputs": [
    {
     "name": "stdout",
     "output_type": "stream",
     "text": [
      "F_1: 0.6194986877053015\n",
      "Best params: {'min_samples_leaf': 9}\n",
      "CPU times: user 884 ms, sys: 262 ms, total: 1.15 s\n",
      "Wall time: 8.89 s\n"
     ]
    }
   ],
   "source": [
    "%%time\n",
    "model = RandomForestClassifier(min_samples_split=22, class_weight='balanced', random_state=12345,\n",
    "                               criterion= 'gini', n_estimators=300, n_jobs=-1)\n",
    "eval(model, {'min_samples_leaf': np.arange(1, 10, 1)})"
   ]
  },
  {
   "cell_type": "markdown",
   "metadata": {},
   "source": [
    "### LGBM"
   ]
  },
  {
   "cell_type": "code",
   "execution_count": 24,
   "metadata": {},
   "outputs": [
    {
     "name": "stdout",
     "output_type": "stream",
     "text": [
      "F_1: 0.6100725695750115\n",
      "Best params: {'learning_rate': 0.01}\n",
      "CPU times: user 1.6 s, sys: 23.1 ms, total: 1.62 s\n",
      "Wall time: 2.93 s\n"
     ]
    }
   ],
   "source": [
    "%%time\n",
    "model = LGBMClassifier(class_weight='balanced', n_estimators=300, random_state=12345, n_jobs=-1)\n",
    "eval(model, {'learning_rate':np.arange(0.01, 0.99, 0.2)})"
   ]
  },
  {
   "cell_type": "code",
   "execution_count": 25,
   "metadata": {},
   "outputs": [
    {
     "name": "stdout",
     "output_type": "stream",
     "text": [
      "F_1: 0.6129072983615529\n",
      "Best params: {'num_leaves': 16}\n",
      "CPU times: user 1.45 s, sys: 133 ms, total: 1.58 s\n",
      "Wall time: 8.06 s\n"
     ]
    }
   ],
   "source": [
    "%%time\n",
    "model = LGBMClassifier(learning_rate=0.01, class_weight='balanced', n_estimators=100, random_state=12345, n_jobs=-1)\n",
    "eval(model, {'num_leaves':np.arange(10, 100, 1)})"
   ]
  },
  {
   "cell_type": "code",
   "execution_count": null,
   "metadata": {},
   "outputs": [],
   "source": []
  },
  {
   "cell_type": "code",
   "execution_count": 26,
   "metadata": {},
   "outputs": [
    {
     "name": "stdout",
     "output_type": "stream",
     "text": [
      "[[537 103]\n",
      " [130 216]]\n"
     ]
    }
   ],
   "source": [
    "from sklearn.metrics import confusion_matrix\n",
    "model = RandomForestClassifier(min_samples_leaf=9, min_samples_split=22, class_weight='balanced', random_state=12345,\n",
    "                               criterion= 'gini', n_estimators=300, n_jobs=-1)\n",
    "model.fit(X_train, y_train)\n",
    "predictions = model.predict(X_test)\n",
    "print(confusion_matrix(y_test, predictions))"
   ]
  },
  {
   "cell_type": "code",
   "execution_count": 27,
   "metadata": {},
   "outputs": [
    {
     "data": {
      "text/plain": [
       "Text(33.0, 0.5, 'True lable')"
      ]
     },
     "execution_count": 27,
     "metadata": {},
     "output_type": "execute_result"
    },
    {
     "data": {
      "image/png": "[encoded data removed]",
      "text/plain": [
       "<Figure size 432x288 with 2 Axes>"
      ]
     },
     "metadata": {
      "needs_background": "light"
     },
     "output_type": "display_data"
    }
   ],
   "source": [
    "ax = sns.heatmap(confusion_matrix(y_test, predictions), annot=True)\n",
    "ax.set_xlabel('Predicted lable')\n",
    "ax.set_ylabel('True lable')"
   ]
  },
  {
   "cell_type": "code",
   "execution_count": 28,
   "metadata": {},
   "outputs": [],
   "source": [
    "def ROC(model, X, y):\n",
    "\n",
    "    probabilities = model.predict_proba(X)[:,1]\n",
    "    fpr, tpr, thresholds = roc_curve(y, probabilities)\n",
    "\n",
    "    plt.figure()\n",
    "\n",
    "    plt.plot(fpr, tpr)\n",
    "    plt.xlim([0.0, 1.0])\n",
    "    plt.ylim([0.0, 1.0])\n",
    "    # ROC-кривая случайной модели (выглядит как прямая)\n",
    "    plt.plot([0, 1], [0, 1], linestyle='--')\n",
    "    plt.xlabel('False Positive Rate')\n",
    "    plt.ylabel('True Positive Rate')\n",
    "    plt.title('ROC-кривая')\n",
    "    \n",
    "    plt.show()"
   ]
  },
  {
   "cell_type": "code",
   "execution_count": 29,
   "metadata": {},
   "outputs": [
    {
     "data": {
      "image/png": "[encoded data removed]",
      "text/plain": [
       "<Figure size 432x288 with 1 Axes>"
      ]
     },
     "metadata": {
      "needs_background": "light"
     },
     "output_type": "display_data"
    }
   ],
   "source": [
    "ROC(model, X_test, y_test)"
   ]
  },
  {
   "cell_type": "code",
   "execution_count": 30,
   "metadata": {},
   "outputs": [],
   "source": [
    "def PR(model, X, y):\n",
    "\n",
    "    probabilities = model.predict_proba(X)[:,1]\n",
    "    precision, recall, thresholds = precision_recall_curve(y, probabilities)\n",
    "\n",
    "    plt.figure(figsize=(6, 6))\n",
    "    plt.step(recall, precision, where='post')\n",
    "    plt.xlabel('Recall')\n",
    "    plt.ylabel('Precision')\n",
    "    plt.ylim([0.0, 1.05])\n",
    "    plt.xlim([0.0, 1.0])\n",
    "    plt.title('Precision-Recall Curve')\n",
    "    plt.show() "
   ]
  },
  {
   "cell_type": "code",
   "execution_count": 31,
   "metadata": {},
   "outputs": [
    {
     "data": {
      "image/png": "[encoded data removed]",
      "text/plain": [
       "<Figure size 432x432 with 1 Axes>"
      ]
     },
     "metadata": {
      "needs_background": "light"
     },
     "output_type": "display_data"
    }
   ],
   "source": [
    "PR(model, X_test, y_test)"
   ]
  },
  {
   "cell_type": "code",
   "execution_count": 32,
   "metadata": {},
   "outputs": [],
   "source": [
    "def f_t(model, X, y):\n",
    "    thresholds = np.linspace(0, 1, 100)\n",
    "    probabilities = model.predict_proba(X)[:,1]\n",
    "    scores = [f1_score(y, (probabilities > t).astype(np.int)) for t in thresholds]\n",
    "    plt.plot(thresholds, scores, label='F-score');\n",
    "    plt.scatter(thresholds[np.argmax(scores)], np.max(scores), label='Maximum')\n",
    "    plt.legend()\n",
    "    plt.xlabel('Threshold')\n",
    "    plt.ylabel('F-score')\n",
    "    plt.title('F-score for unbalanced dataset')"
   ]
  },
  {
   "cell_type": "code",
   "execution_count": 33,
   "metadata": {},
   "outputs": [
    {
     "data": {
      "image/png": "[encoded data removed]",
      "text/plain": [
       "<Figure size 432x288 with 1 Axes>"
      ]
     },
     "metadata": {
      "needs_background": "light"
     },
     "output_type": "display_data"
    }
   ],
   "source": [
    "f_t(model, X_test, y_test)"
   ]
  },
  {
   "cell_type": "code",
   "execution_count": 34,
   "metadata": {},
   "outputs": [],
   "source": [
    "def th(model, X, y):\n",
    "    probabilities = model.predict_proba(X)[:,1]\n",
    "    for threshold in np.arange(0, 1, 0.05):\n",
    "        predicted = probabilities > threshold   \n",
    "        precision = precision_score(y, predicted)\n",
    "        recall =  recall_score(y, predicted)\n",
    "        f1 = f1_score(y, predicted)\n",
    "        print(\"Threshold = {:.2f} | Precision = {:.3f}, Recall = {:.3f}, F1-score = {:.3f}\".format(\n",
    "            threshold, precision, recall, f1))"
   ]
  },
  {
   "cell_type": "code",
   "execution_count": 35,
   "metadata": {},
   "outputs": [
    {
     "name": "stdout",
     "output_type": "stream",
     "text": [
      "Threshold = 0.00 | Precision = 0.351, Recall = 1.000, F1-score = 0.520\n",
      "Threshold = 0.05 | Precision = 0.351, Recall = 1.000, F1-score = 0.520\n",
      "Threshold = 0.10 | Precision = 0.351, Recall = 1.000, F1-score = 0.520\n",
      "Threshold = 0.15 | Precision = 0.351, Recall = 1.000, F1-score = 0.520\n",
      "Threshold = 0.20 | Precision = 0.378, Recall = 0.980, F1-score = 0.545\n",
      "Threshold = 0.25 | Precision = 0.407, Recall = 0.968, F1-score = 0.573\n",
      "Threshold = 0.30 | Precision = 0.453, Recall = 0.896, F1-score = 0.602\n",
      "Threshold = 0.35 | Precision = 0.487, Recall = 0.844, F1-score = 0.618\n",
      "Threshold = 0.40 | Precision = 0.561, Recall = 0.720, F1-score = 0.630\n",
      "Threshold = 0.45 | Precision = 0.633, Recall = 0.673, F1-score = 0.653\n",
      "Threshold = 0.50 | Precision = 0.677, Recall = 0.624, F1-score = 0.650\n",
      "Threshold = 0.55 | Precision = 0.771, Recall = 0.584, F1-score = 0.664\n",
      "Threshold = 0.60 | Precision = 0.828, Recall = 0.500, F1-score = 0.623\n",
      "Threshold = 0.65 | Precision = 0.878, Recall = 0.457, F1-score = 0.601\n",
      "Threshold = 0.70 | Precision = 0.907, Recall = 0.425, F1-score = 0.579\n",
      "Threshold = 0.75 | Precision = 0.917, Recall = 0.382, F1-score = 0.539\n",
      "Threshold = 0.80 | Precision = 0.962, Recall = 0.361, F1-score = 0.525\n",
      "Threshold = 0.85 | Precision = 0.960, Recall = 0.347, F1-score = 0.510\n",
      "Threshold = 0.90 | Precision = 0.974, Recall = 0.329, F1-score = 0.492\n",
      "Threshold = 0.95 | Precision = 1.000, Recall = 0.292, F1-score = 0.452\n"
     ]
    }
   ],
   "source": [
    "th(model, X_test, y_test)"
   ]
  },
  {
   "cell_type": "markdown",
   "metadata": {},
   "source": [
    "### UPSAMPLING"
   ]
  },
  {
   "cell_type": "code",
   "execution_count": 36,
   "metadata": {},
   "outputs": [
    {
     "data": {
      "text/plain": [
       "0    2589\n",
       "1    1355\n",
       "Name: 2011-10, dtype: int64"
      ]
     },
     "execution_count": 36,
     "metadata": {},
     "output_type": "execute_result"
    }
   ],
   "source": [
    "y.value_counts()"
   ]
  },
  {
   "cell_type": "code",
   "execution_count": 37,
   "metadata": {},
   "outputs": [],
   "source": [
    "def upsample(features, target, repeat):\n",
    "    features_0 = features[target==0]\n",
    "    features_1 = features[target==1]\n",
    "    target_0 =  target[target==0]\n",
    "    target_1 =  target[target==1]\n",
    "    features_upsampled = pd.concat( [features_0] + [features_1]*repeat)\n",
    "    target_upsampled = pd.concat( [target_0] + [target_1]*repeat)\n",
    "    features_upsampled, target_upsampled = shuffle(features_upsampled, target_upsampled, random_state=12345)\n",
    "    return features_upsampled, target_upsampled"
   ]
  },
  {
   "cell_type": "code",
   "execution_count": 38,
   "metadata": {},
   "outputs": [
    {
     "data": {
      "text/plain": [
       "2"
      ]
     },
     "execution_count": 38,
     "metadata": {},
     "output_type": "execute_result"
    }
   ],
   "source": [
    "repeat = math.ceil(y[y==0].shape[0]/y[y==1].shape[0])\n",
    "repeat"
   ]
  },
  {
   "cell_type": "code",
   "execution_count": 39,
   "metadata": {},
   "outputs": [
    {
     "data": {
      "text/plain": [
       "((3967, 10), (3967,))"
      ]
     },
     "execution_count": 39,
     "metadata": {},
     "output_type": "execute_result"
    }
   ],
   "source": [
    "X_train, y_train = upsample(X_train, y_train, repeat)\n",
    "X_train.shape, y_train.shape"
   ]
  },
  {
   "cell_type": "code",
   "execution_count": 40,
   "metadata": {},
   "outputs": [
    {
     "name": "stdout",
     "output_type": "stream",
     "text": [
      "F_1: 0.6937537390346116\n",
      "Best params: {'criterion': 'entropy', 'max_depth': None, 'min_samples_leaf': 1, 'min_samples_split': 2}\n",
      "CPU times: user 1.18 s, sys: 78.9 ms, total: 1.26 s\n",
      "Wall time: 2.31 s\n"
     ]
    }
   ],
   "source": [
    "%%time\n",
    "model = DecisionTreeClassifier(random_state=12345)\n",
    "eval(model, {'max_depth': [range(4, 20, 2), None], 'criterion': ['gini', 'entropy'] ,\n",
    "             'min_samples_split': np.arange(2, 26, 2), 'min_samples_leaf': np.arange(1, 10, 1)})"
   ]
  },
  {
   "cell_type": "code",
   "execution_count": 41,
   "metadata": {},
   "outputs": [
    {
     "name": "stdout",
     "output_type": "stream",
     "text": [
      "F_1: 0.7068459203260208\n",
      "Best params: {'criterion': 'entropy', 'max_depth': None}\n",
      "CPU times: user 1.12 s, sys: 280 ms, total: 1.4 s\n",
      "Wall time: 3.43 s\n"
     ]
    }
   ],
   "source": [
    "%%time\n",
    "model = RandomForestClassifier(random_state=12345, n_estimators=300, n_jobs=-1)\n",
    "eval(model, {'max_depth': [range(4, 20, 2), None], 'criterion': ['gini', 'entropy']})"
   ]
  },
  {
   "cell_type": "code",
   "execution_count": 42,
   "metadata": {},
   "outputs": [
    {
     "name": "stdout",
     "output_type": "stream",
     "text": [
      "F_1: 0.7068459203260208\n",
      "Best params: {'min_samples_split': 2}\n",
      "CPU times: user 1.32 s, sys: 300 ms, total: 1.62 s\n",
      "Wall time: 13.3 s\n"
     ]
    }
   ],
   "source": [
    "%%time\n",
    "model = RandomForestClassifier(random_state=12345,\n",
    "                               criterion= 'entropy', n_estimators=300, n_jobs=-1)\n",
    "eval(model, {'min_samples_split': np.arange(2, 26, 2)})"
   ]
  },
  {
   "cell_type": "code",
   "execution_count": 43,
   "metadata": {},
   "outputs": [
    {
     "name": "stdout",
     "output_type": "stream",
     "text": [
      "F_1: 0.7068459203260208\n",
      "Best params: {'min_samples_leaf': 1}\n",
      "CPU times: user 1.38 s, sys: 280 ms, total: 1.66 s\n",
      "Wall time: 23.4 s\n"
     ]
    }
   ],
   "source": [
    "%%time\n",
    "model = RandomForestClassifier(random_state=12345,\n",
    "                               criterion= 'entropy', n_estimators=300, n_jobs=-1)\n",
    "eval(model, {'min_samples_leaf': np.arange(1, 40, 2)})"
   ]
  },
  {
   "cell_type": "code",
   "execution_count": 44,
   "metadata": {},
   "outputs": [
    {
     "name": "stdout",
     "output_type": "stream",
     "text": [
      "F_1: 0.7099166009930166\n",
      "Best params: {'learning_rate': 0.81}\n",
      "CPU times: user 1.57 s, sys: 28.4 ms, total: 1.6 s\n",
      "Wall time: 1.57 s\n"
     ]
    }
   ],
   "source": [
    "%%time\n",
    "model = LGBMClassifier(n_estimators=300, random_state=12345, n_jobs=-1)\n",
    "eval(model, {'learning_rate':np.arange(0.01, 0.99, 0.2)})"
   ]
  },
  {
   "cell_type": "code",
   "execution_count": 45,
   "metadata": {},
   "outputs": [
    {
     "name": "stdout",
     "output_type": "stream",
     "text": [
      "F_1: 0.7063116194971585\n",
      "Best params: {'num_leaves': 17}\n",
      "CPU times: user 1.18 s, sys: 72.7 ms, total: 1.25 s\n",
      "Wall time: 1.56 s\n"
     ]
    }
   ],
   "source": [
    "%%time\n",
    "model = LGBMClassifier(learning_rate=0.61, class_weight='balanced', n_estimators=300, random_state=12345, n_jobs=-1)\n",
    "eval(model, {'num_leaves':np.arange(10, 20, 1)})"
   ]
  },
  {
   "cell_type": "code",
   "execution_count": 46,
   "metadata": {},
   "outputs": [
    {
     "name": "stdout",
     "output_type": "stream",
     "text": [
      "F_1: 0.7045912452597405\n",
      "Best params: {'reg_lambda': 4}\n",
      "CPU times: user 2.08 s, sys: 111 ms, total: 2.19 s\n",
      "Wall time: 4.69 s\n"
     ]
    }
   ],
   "source": [
    "%%time\n",
    "model = LGBMClassifier(learning_rate=0.61, class_weight='balanced', n_estimators=300, random_state=12345, n_jobs=-1)\n",
    "eval(model, {'reg_lambda':np.arange(0, 20, 1)})"
   ]
  },
  {
   "cell_type": "code",
   "execution_count": 47,
   "metadata": {},
   "outputs": [
    {
     "name": "stdout",
     "output_type": "stream",
     "text": [
      "F_1: 0.7080411554859418\n",
      "Best params: {'reg_alpha': 0}\n",
      "CPU times: user 1.76 s, sys: 74 ms, total: 1.83 s\n",
      "Wall time: 983 ms\n"
     ]
    }
   ],
   "source": [
    "%%time\n",
    "model = LGBMClassifier(random_state=12345, learning_rate=0.61, n_jobs=-1, n_estimators=300)\n",
    "eval(model, {'reg_alpha':np.arange(0, 10, 1)})"
   ]
  },
  {
   "cell_type": "code",
   "execution_count": 48,
   "metadata": {},
   "outputs": [
    {
     "name": "stdout",
     "output_type": "stream",
     "text": [
      "[[530 110]\n",
      " [157 189]]\n"
     ]
    }
   ],
   "source": [
    "model = LGBMClassifier(learning_rate=0.61, class_weight='balanced', n_estimators=300, random_state=12345, n_jobs=-1)\n",
    "model.fit(X_train, y_train)\n",
    "predictions = model.predict(X_test)\n",
    "print(confusion_matrix(y_test, predictions))"
   ]
  },
  {
   "cell_type": "code",
   "execution_count": 49,
   "metadata": {},
   "outputs": [
    {
     "data": {
      "text/plain": [
       "Text(33.0, 0.5, 'True lable')"
      ]
     },
     "execution_count": 49,
     "metadata": {},
     "output_type": "execute_result"
    },
    {
     "data": {
      "image/png": "[encoded data removed]",
      "text/plain": [
       "<Figure size 432x288 with 2 Axes>"
      ]
     },
     "metadata": {
      "needs_background": "light"
     },
     "output_type": "display_data"
    }
   ],
   "source": [
    "ax = sns.heatmap(confusion_matrix(y_test, predictions), annot=True)\n",
    "ax.set_xlabel('Predicted lable')\n",
    "ax.set_ylabel('True lable')"
   ]
  },
  {
   "cell_type": "code",
   "execution_count": 50,
   "metadata": {},
   "outputs": [
    {
     "data": {
      "image/png": "[encoded data removed]",
      "text/plain": [
       "<Figure size 432x288 with 1 Axes>"
      ]
     },
     "metadata": {
      "needs_background": "light"
     },
     "output_type": "display_data"
    }
   ],
   "source": [
    "ROC(model, X_test, y_test)"
   ]
  },
  {
   "cell_type": "code",
   "execution_count": 51,
   "metadata": {},
   "outputs": [
    {
     "data": {
      "image/png": "[encoded data removed]",
      "text/plain": [
       "<Figure size 432x432 with 1 Axes>"
      ]
     },
     "metadata": {
      "needs_background": "light"
     },
     "output_type": "display_data"
    }
   ],
   "source": [
    "PR(model, X_test, y_test)"
   ]
  },
  {
   "cell_type": "code",
   "execution_count": 52,
   "metadata": {},
   "outputs": [
    {
     "data": {
      "image/png": "[encoded data removed]",
      "text/plain": [
       "<Figure size 432x288 with 1 Axes>"
      ]
     },
     "metadata": {
      "needs_background": "light"
     },
     "output_type": "display_data"
    }
   ],
   "source": [
    "f_t(model, X_test, y_test)"
   ]
  },
  {
   "cell_type": "code",
   "execution_count": 53,
   "metadata": {},
   "outputs": [
    {
     "name": "stdout",
     "output_type": "stream",
     "text": [
      "Threshold = 0.00 | Precision = 0.351, Recall = 1.000, F1-score = 0.520\n",
      "Threshold = 0.05 | Precision = 0.343, Recall = 0.893, F1-score = 0.496\n",
      "Threshold = 0.10 | Precision = 0.338, Recall = 0.850, F1-score = 0.483\n",
      "Threshold = 0.15 | Precision = 0.342, Recall = 0.832, F1-score = 0.485\n",
      "Threshold = 0.20 | Precision = 0.375, Recall = 0.789, F1-score = 0.508\n",
      "Threshold = 0.25 | Precision = 0.402, Recall = 0.766, F1-score = 0.527\n",
      "Threshold = 0.30 | Precision = 0.458, Recall = 0.708, F1-score = 0.556\n",
      "Threshold = 0.35 | Precision = 0.498, Recall = 0.688, F1-score = 0.578\n",
      "Threshold = 0.40 | Precision = 0.559, Recall = 0.587, F1-score = 0.573\n",
      "Threshold = 0.45 | Precision = 0.615, Recall = 0.555, F1-score = 0.584\n",
      "Threshold = 0.50 | Precision = 0.632, Recall = 0.546, F1-score = 0.586\n",
      "Threshold = 0.55 | Precision = 0.648, Recall = 0.538, F1-score = 0.588\n",
      "Threshold = 0.60 | Precision = 0.658, Recall = 0.517, F1-score = 0.579\n",
      "Threshold = 0.65 | Precision = 0.690, Recall = 0.494, F1-score = 0.576\n",
      "Threshold = 0.70 | Precision = 0.730, Recall = 0.477, F1-score = 0.577\n",
      "Threshold = 0.75 | Precision = 0.744, Recall = 0.462, F1-score = 0.570\n",
      "Threshold = 0.80 | Precision = 0.741, Recall = 0.439, F1-score = 0.552\n",
      "Threshold = 0.85 | Precision = 0.777, Recall = 0.434, F1-score = 0.557\n",
      "Threshold = 0.90 | Precision = 0.809, Recall = 0.416, F1-score = 0.550\n",
      "Threshold = 0.95 | Precision = 0.863, Recall = 0.364, F1-score = 0.512\n"
     ]
    }
   ],
   "source": [
    "th(model, X_test, y_test)"
   ]
  },
  {
   "cell_type": "markdown",
   "metadata": {},
   "source": [
    "### Выбираем первый вариант данных (без upsampling) и сохраняем ответы"
   ]
  },
  {
   "cell_type": "code",
   "execution_count": 54,
   "metadata": {},
   "outputs": [],
   "source": [
    "model = RandomForestClassifier(min_samples_leaf=9, min_samples_split=22, \n",
    "                               class_weight='balanced', random_state=12345,\n",
    "                               criterion= 'gini', n_estimators=300, n_jobs=-1)\n",
    "model.fit(X, y)\n",
    "prob = model.predict_proba(v.iloc[:, 1:11].astype('int'))[:,1]"
   ]
  },
  {
   "cell_type": "code",
   "execution_count": 55,
   "metadata": {},
   "outputs": [],
   "source": [
    "answer =  pd.DataFrame({'CustomerID': list(customers), 'prob': list(prob)})\n",
    "answer.to_csv('/Users/a1234/Downloads/answer.csv')"
   ]
  },
  {
   "attachments": {},
   "cell_type": "markdown",
   "metadata": {},
   "source": [
    "## Рекомендации относительно перспектив дальнейшего исследования этого массива данных:\n",
    "\n",
    "- Возможно провести исследовательский анализ данных, выявить наиболее/наименее популярные продаваемые товары.\n",
    "- Исследовать временные ряды по суммарным чекам от всех клиентов с разбивкой по наименованиям товара.\n",
    "- Построить модель, которая делает предсказания о покупке конкретного наименования товара клиентом.\n",
    "- Провести кластеризацию клиентов по типу (базовый, продвинутый, премиальный), а также по предпочтениям товаров."
   ]
  },
  {
   "cell_type": "code",
   "execution_count": null,
   "metadata": {},
   "outputs": [],
   "source": []
  }
 ],
 "metadata": {
  "kernelspec": {
   "display_name": "Python 3",
   "language": "python",
   "name": "python3"
  },
  "language_info": {
   "codemirror_mode": {
    "name": "ipython",
    "version": 3
   },
   "file_extension": ".py",
   "mimetype": "text/x-python",
   "name": "python",
   "nbconvert_exporter": "python",
   "pygments_lexer": "ipython3",
   "version": "3.8.5"
  },
  "toc": {
   "base_numbering": 1,
   "nav_menu": {},
   "number_sections": true,
   "sideBar": true,
   "skip_h1_title": true,
   "title_cell": "Table of Contents",
   "title_sidebar": "Contents",
   "toc_cell": true,
   "toc_position": {},
   "toc_section_display": true,
   "toc_window_display": true
  }
 },
 "nbformat": 4,
 "nbformat_minor": 4
}
